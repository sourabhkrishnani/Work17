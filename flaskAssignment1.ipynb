{
 "cells": [
  {
   "cell_type": "code",
   "execution_count": 1,
   "id": "5c870837-5481-469e-8f01-b6400ac83afe",
   "metadata": {},
   "outputs": [],
   "source": [
    "#Q1"
   ]
  },
  {
   "cell_type": "markdown",
   "id": "bbdc972b-fdd4-4e29-b2fb-97b7d6c4051d",
   "metadata": {},
   "source": [
    "Flask is a lightweight and versatile web framework for Python. It is designed to make getting started with web development quick and easy, with the flexibility to scale up for complex applications. Flask is often referred to as a micro-framework because it keeps the core simple but provides extensions to add more features based on project requirements. It is widely used for developing web applications, APIs, and other web-related projects in Python."
   ]
  },
  {
   "cell_type": "markdown",
   "id": "abb25528-9647-4dca-94e4-bd3a3ab18481",
   "metadata": {},
   "source": [
    "Here are some key advantages of the Flask framework:\n",
    "\n",
    "Simplicity: Flask is known for its simplicity and minimalistic design. It does not impose any particular way of doing things, allowing developers to have greater flexibility and freedom in structuring their applications.\n",
    "\n",
    "Ease of Learning: Flask has a straightforward and intuitive syntax, making it easy for beginners to pick up and start building web applications. Its simplicity is conducive to learning and experimentation.\n",
    "\n",
    "Extensibility: Flask provides a variety of extensions that can be easily integrated into applications to add functionality. These extensions cover areas such as form validation, authentication, database integration, and more, allowing developers to enhance their applications without reinventing the wheel.\n",
    "\n",
    "Flexibility: Flask does not dictate the use of specific tools or libraries. Developers can choose the components they want to use for tasks like database access, form handling, and templating. This flexibility is valuable when integrating Flask into existing projects or specific technology stacks.\n",
    "\n",
    "Werkzeug and Jinja2: Flask is built on top of Werkzeug, a WSGI utility library, and Jinja2, a powerful template engine. Werkzeug provides the necessary tools for request handling and routing, while Jinja2 enables the creation of dynamic and reusable templates.\n",
    "\n",
    "Lightweight: Flask is lightweight in terms of both codebase and resource usage. It does not come with unnecessary features, making it suitable for small to medium-sized applications and microservices.\n",
    "\n",
    "Community and Documentation: Flask has a large and active community. There are extensive documentation and numerous tutorials available, making it easy for developers to find help and resources when needed.\n",
    "\n",
    "Testing Support: Flask provides built-in support for unit testing, allowing developers to write tests for their applications easily. This facilitates the development of robust and bug-free code.\n",
    "\n",
    "Scalability: While Flask is great for small to medium-sized applications, it can be used to build scalable and production-ready systems when combined with appropriate extensions, databases, and deployment practices.\n",
    "\n",
    "Overall, Flask's simplicity, flexibility, and extensibility make it an excellent choice for developers looking to create web applications quickly while having the option to scale up for more complex projects when needed."
   ]
  },
  {
   "cell_type": "code",
   "execution_count": 2,
   "id": "ac789758-519d-483e-85f0-e1c91ee0f1a0",
   "metadata": {},
   "outputs": [
    {
     "name": "stdout",
     "output_type": "stream",
     "text": [
      "Collecting flask\n",
      "  Downloading flask-3.0.0-py3-none-any.whl (99 kB)\n",
      "\u001b[2K     \u001b[90m━━━━━━━━━━━━━━━━━━━━━━━━━━━━━━━━━━━━━━━━\u001b[0m \u001b[32m99.7/99.7 kB\u001b[0m \u001b[31m3.8 MB/s\u001b[0m eta \u001b[36m0:00:00\u001b[0m\n",
      "\u001b[?25hRequirement already satisfied: click>=8.1.3 in /opt/conda/lib/python3.10/site-packages (from flask) (8.1.3)\n",
      "Collecting blinker>=1.6.2\n",
      "  Downloading blinker-1.6.2-py3-none-any.whl (13 kB)\n",
      "Collecting Werkzeug>=3.0.0\n",
      "  Downloading werkzeug-3.0.0-py3-none-any.whl (226 kB)\n",
      "\u001b[2K     \u001b[90m━━━━━━━━━━━━━━━━━━━━━━━━━━━━━━━━━━━━━━\u001b[0m \u001b[32m226.6/226.6 kB\u001b[0m \u001b[31m25.9 MB/s\u001b[0m eta \u001b[36m0:00:00\u001b[0m\n",
      "\u001b[?25hRequirement already satisfied: Jinja2>=3.1.2 in /opt/conda/lib/python3.10/site-packages (from flask) (3.1.2)\n",
      "Collecting itsdangerous>=2.1.2\n",
      "  Downloading itsdangerous-2.1.2-py3-none-any.whl (15 kB)\n",
      "Requirement already satisfied: MarkupSafe>=2.0 in /opt/conda/lib/python3.10/site-packages (from Jinja2>=3.1.2->flask) (2.1.1)\n",
      "Installing collected packages: Werkzeug, itsdangerous, blinker, flask\n",
      "  Attempting uninstall: blinker\n",
      "    Found existing installation: blinker 1.5\n",
      "    Uninstalling blinker-1.5:\n",
      "      Successfully uninstalled blinker-1.5\n",
      "Successfully installed Werkzeug-3.0.0 blinker-1.6.2 flask-3.0.0 itsdangerous-2.1.2\n",
      "Note: you may need to restart the kernel to use updated packages.\n"
     ]
    }
   ],
   "source": [
    "pip install flask"
   ]
  },
  {
   "cell_type": "code",
   "execution_count": 5,
   "id": "0e2ed128-ae24-4bf4-a16e-998c7a682c86",
   "metadata": {},
   "outputs": [
    {
     "name": "stdout",
     "output_type": "stream",
     "text": [
      " * Serving Flask app '__main__'\n",
      " * Debug mode: on\n"
     ]
    },
    {
     "name": "stderr",
     "output_type": "stream",
     "text": [
      "WARNING: This is a development server. Do not use it in a production deployment. Use a production WSGI server instead.\n",
      " * Running on http://127.0.0.1:5000\n",
      "Press CTRL+C to quit\n",
      " * Restarting with stat\n",
      "Traceback (most recent call last):\n",
      "  File \"/opt/conda/lib/python3.10/runpy.py\", line 196, in _run_module_as_main\n",
      "    return _run_code(code, main_globals, None,\n",
      "  File \"/opt/conda/lib/python3.10/runpy.py\", line 86, in _run_code\n",
      "    exec(code, run_globals)\n",
      "  File \"/opt/conda/lib/python3.10/site-packages/ipykernel_launcher.py\", line 17, in <module>\n",
      "    app.launch_new_instance()\n",
      "  File \"/opt/conda/lib/python3.10/site-packages/traitlets/config/application.py\", line 991, in launch_instance\n",
      "    app.initialize(argv)\n",
      "  File \"/opt/conda/lib/python3.10/site-packages/traitlets/config/application.py\", line 113, in inner\n",
      "    return method(app, *args, **kwargs)\n",
      "  File \"/opt/conda/lib/python3.10/site-packages/ipykernel/kernelapp.py\", line 665, in initialize\n",
      "    self.init_sockets()\n",
      "  File \"/opt/conda/lib/python3.10/site-packages/ipykernel/kernelapp.py\", line 309, in init_sockets\n",
      "    self.shell_port = self._bind_socket(self.shell_socket, self.shell_port)\n",
      "  File \"/opt/conda/lib/python3.10/site-packages/ipykernel/kernelapp.py\", line 246, in _bind_socket\n",
      "    return self._try_bind_socket(s, port)\n",
      "  File \"/opt/conda/lib/python3.10/site-packages/ipykernel/kernelapp.py\", line 222, in _try_bind_socket\n",
      "    s.bind(\"tcp://%s:%i\" % (self.ip, port))\n",
      "  File \"/opt/conda/lib/python3.10/site-packages/zmq/sugar/socket.py\", line 232, in bind\n",
      "    super().bind(addr)\n",
      "  File \"zmq/backend/cython/socket.pyx\", line 568, in zmq.backend.cython.socket.Socket.bind\n",
      "  File \"zmq/backend/cython/checkrc.pxd\", line 28, in zmq.backend.cython.checkrc._check_rc\n",
      "zmq.error.ZMQError: Address already in use\n"
     ]
    },
    {
     "ename": "SystemExit",
     "evalue": "1",
     "output_type": "error",
     "traceback": [
      "An exception has occurred, use %tb to see the full traceback.\n",
      "\u001b[0;31mSystemExit\u001b[0m\u001b[0;31m:\u001b[0m 1\n"
     ]
    },
    {
     "name": "stderr",
     "output_type": "stream",
     "text": [
      "/opt/conda/lib/python3.10/site-packages/IPython/core/interactiveshell.py:3441: UserWarning: To exit: use 'exit', 'quit', or Ctrl-D.\n",
      "  warn(\"To exit: use 'exit', 'quit', or Ctrl-D.\", stacklevel=1)\n"
     ]
    }
   ],
   "source": [
    "from flask import Flask, render_template\n",
    "\n",
    "app = Flask(__name__)\n",
    "\n",
    "@app.route('/')\n",
    "def index():\n",
    "    return \"Hello world! this is a flask web applications.\"\n",
    "if __name__ == '__main__':\n",
    "    app.run(debug=True)"
   ]
  },
  {
   "cell_type": "code",
   "execution_count": null,
   "id": "2c1d1f7e-8e22-4b0a-a867-7015cac49195",
   "metadata": {},
   "outputs": [],
   "source": [
    "#Q2"
   ]
  },
  {
   "cell_type": "code",
   "execution_count": null,
   "id": "a253a939-323a-41bb-948b-ae61312baa73",
   "metadata": {},
   "outputs": [],
   "source": [
    "https://brown-waiter-dhnpf.pwskills.app/lab/tree/work/Screenshot%20(261).png"
   ]
  },
  {
   "cell_type": "code",
   "execution_count": null,
   "id": "6bd0804e-9a77-4fb8-b729-a1a07785356e",
   "metadata": {},
   "outputs": [],
   "source": [
    "#Q3"
   ]
  },
  {
   "cell_type": "markdown",
   "id": "1908b89a-f260-4942-b05b-06c27c4acb94",
   "metadata": {},
   "source": [
    "In Flask, app routing refers to the mechanism of mapping URLs (Uniform Resource Locators) to specific Python functions within a Flask application. It allows you to define different routes for your web application, each associated with a specific function. When a user accesses a specific URL, Flask calls the corresponding Python function, generating a response to be sent back to the user's browser.\n",
    "\n",
    "Here's how you define an app route in Flask:"
   ]
  },
  {
   "cell_type": "code",
   "execution_count": 6,
   "id": "f3b92acc-68f4-49c2-96c0-143bd4f8fd39",
   "metadata": {},
   "outputs": [],
   "source": [
    "from flask import Flask\n",
    "\n",
    "app = Flask(__name__)\n",
    "\n",
    "@app.route('/')\n",
    "def index():\n",
    "    return 'Hello, World!'\n"
   ]
  },
  {
   "cell_type": "markdown",
   "id": "d95b9d45-be34-497a-a002-4a89289d2fe8",
   "metadata": {},
   "source": [
    "In this example, @app.route('/') is a decorator that associates the root URL ('/') with the index function. When a user accesses the root URL of the application, the index function is called, and it returns 'Hello, World!'. You can define more routes by creating additional functions with their respective @app.route() decorators."
   ]
  },
  {
   "cell_type": "markdown",
   "id": "403b5da7-4294-401c-88d0-89d26624f021",
   "metadata": {},
   "source": [
    "Why do we use app routes in Flask?\n",
    "URL Mapping: App routes allow you to map specific URLs to corresponding functions in your Python code. This mapping is the foundation of how web applications handle different user requests.\n",
    "\n",
    "Modularity: By defining routes, Flask applications become modular. Each route and its associated function handle a specific aspect of the application's functionality. This modularity promotes clean and organized code.\n",
    "\n",
    "Dynamic Content: Routes enable the creation of dynamic web content. Based on user input or specific URL parameters, different functions can be called to generate tailored responses.\n",
    "\n",
    "RESTful APIs: For APIs (Application Programming Interfaces), routes define different endpoints that clients can access to perform various operations, such as retrieving data, creating resources, updating information, or deleting records. Each route corresponds to a specific API endpoint.\n",
    "\n",
    "User Interaction: Routes handle user interactions, such as form submissions and button clicks. When a user submits a form, the form's action attribute points to a specific route, which processes the form data.\n",
    "\n",
    "Error Handling: Routes can handle specific error cases. For instance, you can define a route to handle 404 errors, ensuring that users receive a customized error message when they access a non-existing page.\n",
    "\n",
    "Separation of Concerns: By defining routes, Flask applications adhere to the principle of separation of concerns. The routing mechanism separates the handling of URLs from other application logic, making the codebase more maintainable and understandable.\n",
    "\n",
    "In summary, app routes in Flask are essential for defining the structure and behavior of your web application. They enable clean URL handling, dynamic content generation, and user interaction, making Flask a powerful and flexible framework for web development and API creation."
   ]
  },
  {
   "cell_type": "code",
   "execution_count": 7,
   "id": "e42541d6-d5ae-416f-8b20-5857eb888a5d",
   "metadata": {},
   "outputs": [],
   "source": [
    "#Q4"
   ]
  },
  {
   "cell_type": "code",
   "execution_count": null,
   "id": "7341574f-4cdd-4eda-8740-747e97348f89",
   "metadata": {},
   "outputs": [
    {
     "name": "stdout",
     "output_type": "stream",
     "text": [
      " * Serving Flask app '__main__'\n",
      " * Debug mode: off\n"
     ]
    },
    {
     "name": "stderr",
     "output_type": "stream",
     "text": [
      "WARNING: This is a development server. Do not use it in a production deployment. Use a production WSGI server instead.\n",
      " * Running on all addresses (0.0.0.0)\n",
      " * Running on http://127.0.0.1:8080\n",
      " * Running on http://172.18.0.13:8080\n",
      "Press CTRL+C to quit\n"
     ]
    }
   ],
   "source": [
    "from flask import Flask\n",
    "\n",
    "app = Flask(__name__)\n",
    "\n",
    "@app.route('/welcome')\n",
    "def welcome():\n",
    "    return 'Welcome to ABC Corporation'\n",
    "\n",
    "@app.route('/')\n",
    "def company_info():\n",
    "    return '''\n",
    "    <h1>Company Name: ABC Corporation</h1>\n",
    "    <p>Location: India</p>\n",
    "    <p>Contact Detail: 999-999-9999</p>\n",
    "    '''\n",
    "\n",
    "if __name__==\"__main__\":\n",
    "    app.run(host=\"0.0.0.0\",port = 8080)\n"
   ]
  },
  {
   "cell_type": "code",
   "execution_count": null,
   "id": "883b92b4-6d9d-4793-8a97-0af2b91a7cb6",
   "metadata": {},
   "outputs": [],
   "source": [
    "https://brown-waiter-dhnpf.pwskills.app/lab/tree/work/Screenshot%20(262).png"
   ]
  },
  {
   "cell_type": "code",
   "execution_count": 8,
   "id": "46f61596-5c1c-4030-940e-f29c75ab9d2a",
   "metadata": {},
   "outputs": [],
   "source": [
    "#Q5"
   ]
  },
  {
   "cell_type": "markdown",
   "id": "3907b125-1887-4fc8-9226-b332cb61631b",
   "metadata": {},
   "source": [
    "In Flask, the url_for() function is used for URL building. It generates a URL for the specified endpoint and dynamically builds the URL based on the endpoint's name and any arguments provided. This function is useful because it allows you to change URLs in your application without changing the actual URL used in the url_for() calls, making your application more maintainable.\n",
    "\n",
    "Here's an example demonstrating how the url_for() function works:"
   ]
  },
  {
   "cell_type": "code",
   "execution_count": 3,
   "id": "e34144c3-3d70-4ec5-bdbe-ccad161ab319",
   "metadata": {},
   "outputs": [
    {
     "name": "stdout",
     "output_type": "stream",
     "text": [
      " * Serving Flask app '__main__'\n",
      " * Debug mode: on\n"
     ]
    },
    {
     "name": "stderr",
     "output_type": "stream",
     "text": [
      "WARNING: This is a development server. Do not use it in a production deployment. Use a production WSGI server instead.\n",
      " * Running on http://127.0.0.1:5000\n",
      "Press CTRL+C to quit\n",
      " * Restarting with stat\n",
      "Traceback (most recent call last):\n",
      "  File \"/opt/conda/lib/python3.10/runpy.py\", line 196, in _run_module_as_main\n",
      "    return _run_code(code, main_globals, None,\n",
      "  File \"/opt/conda/lib/python3.10/runpy.py\", line 86, in _run_code\n",
      "    exec(code, run_globals)\n",
      "  File \"/opt/conda/lib/python3.10/site-packages/ipykernel_launcher.py\", line 17, in <module>\n",
      "    app.launch_new_instance()\n",
      "  File \"/opt/conda/lib/python3.10/site-packages/traitlets/config/application.py\", line 991, in launch_instance\n",
      "    app.initialize(argv)\n",
      "  File \"/opt/conda/lib/python3.10/site-packages/traitlets/config/application.py\", line 113, in inner\n",
      "    return method(app, *args, **kwargs)\n",
      "  File \"/opt/conda/lib/python3.10/site-packages/ipykernel/kernelapp.py\", line 665, in initialize\n",
      "    self.init_sockets()\n",
      "  File \"/opt/conda/lib/python3.10/site-packages/ipykernel/kernelapp.py\", line 309, in init_sockets\n",
      "    self.shell_port = self._bind_socket(self.shell_socket, self.shell_port)\n",
      "  File \"/opt/conda/lib/python3.10/site-packages/ipykernel/kernelapp.py\", line 246, in _bind_socket\n",
      "    return self._try_bind_socket(s, port)\n",
      "  File \"/opt/conda/lib/python3.10/site-packages/ipykernel/kernelapp.py\", line 222, in _try_bind_socket\n",
      "    s.bind(\"tcp://%s:%i\" % (self.ip, port))\n",
      "  File \"/opt/conda/lib/python3.10/site-packages/zmq/sugar/socket.py\", line 232, in bind\n",
      "    super().bind(addr)\n",
      "  File \"zmq/backend/cython/socket.pyx\", line 568, in zmq.backend.cython.socket.Socket.bind\n",
      "  File \"zmq/backend/cython/checkrc.pxd\", line 28, in zmq.backend.cython.checkrc._check_rc\n",
      "zmq.error.ZMQError: Address already in use\n"
     ]
    },
    {
     "ename": "SystemExit",
     "evalue": "1",
     "output_type": "error",
     "traceback": [
      "An exception has occurred, use %tb to see the full traceback.\n",
      "\u001b[0;31mSystemExit\u001b[0m\u001b[0;31m:\u001b[0m 1\n"
     ]
    },
    {
     "name": "stderr",
     "output_type": "stream",
     "text": [
      "/opt/conda/lib/python3.10/site-packages/IPython/core/interactiveshell.py:3441: UserWarning: To exit: use 'exit', 'quit', or Ctrl-D.\n",
      "  warn(\"To exit: use 'exit', 'quit', or Ctrl-D.\", stacklevel=1)\n"
     ]
    }
   ],
   "source": [
    "from flask import Flask, url_for\n",
    "\n",
    "app = Flask(__name__)\n",
    "\n",
    "# Route for the welcome page\n",
    "@app.route('/welcome')\n",
    "def welcome():\n",
    "    return 'Welcome to ABC Corporation'\n",
    "\n",
    "# Route for the company information page\n",
    "@app.route('/')\n",
    "def company_info():\n",
    "    # Generate a URL for the 'welcome' endpoint\n",
    "    welcome_url = url_for('welcome')\n",
    "    \n",
    "    return f'''\n",
    "    <h1>Company Name: ABC Corporation</h1>\n",
    "    <p>Location: India</p>\n",
    "    <p>Contact Detail: 999-999-9999</p>\n",
    "    <p>Visit the <a href=\"{welcome_url}\">Welcome Page</a></p>\n",
    "    '''\n",
    "\n",
    "if __name__ == '__main__':\n",
    "    app.run(debug=True)\n"
   ]
  },
  {
   "cell_type": "code",
   "execution_count": null,
   "id": "8bb9d64c-5469-4a02-9709-afb4d2bf9ff5",
   "metadata": {},
   "outputs": [],
   "source": []
  }
 ],
 "metadata": {
  "kernelspec": {
   "display_name": "Python 3 (ipykernel)",
   "language": "python",
   "name": "python3"
  },
  "language_info": {
   "codemirror_mode": {
    "name": "ipython",
    "version": 3
   },
   "file_extension": ".py",
   "mimetype": "text/x-python",
   "name": "python",
   "nbconvert_exporter": "python",
   "pygments_lexer": "ipython3",
   "version": "3.10.8"
  }
 },
 "nbformat": 4,
 "nbformat_minor": 5
}
